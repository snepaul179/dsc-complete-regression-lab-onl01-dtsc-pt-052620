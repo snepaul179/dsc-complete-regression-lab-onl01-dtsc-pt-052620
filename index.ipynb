{
 "cells": [
  {
   "cell_type": "markdown",
   "metadata": {},
   "source": [
    "# Complete Regression - Lab\n",
    "\n",
    "## Introduction\n",
    "By now, you have created all the necessary functions to calculate the slope, intercept, best-fit line, prediction, and visualizations. In this lab you will put them all together to run a regression experiment and calculate the model loss. \n",
    "\n",
    "## Objectives\n",
    "\n",
    "You will be able to:\n",
    "\n",
    "* Perform a linear regression using self-constructed functions\n",
    "* Calculate the coefficient of determination using self-constructed functions\n",
    "* Use the coefficient of determination to determine model performance\n",
    "\n",
    "## The formulas\n",
    "\n",
    "**Slope**: \n",
    "$\\hat m = \\dfrac{\\overline{x}*\\overline{y}-\\overline{xy}}{(\\overline{x})^2-\\overline{x^2}}$\n",
    "\n",
    "\n",
    "**Intercept**: $ \\hat c = \\bar{y} - \\hat m\\bar{x}$\n",
    "\n",
    "**Prediction**: $\\hat{y} = \\hat mx + \\hat c$\n",
    "\n",
    "**R-Squared**: \n",
    "$ R^2 = 1- \\dfrac{SS_{RES}}{SS_{TOT}} = 1 - \\dfrac{\\sum_i(y_i - \\hat y_i)^2}{\\sum_i(y_i - \\overline y_i)^2} $\n",
    "\n",
    "\n",
    "Use the Python functions created earlier to implement these formulas to run a regression analysis using x and y as input variables. "
   ]
  },
  {
   "cell_type": "code",
   "execution_count": 12,
   "metadata": {
    "ExecuteTime": {
     "end_time": "2020-08-25T00:01:12.411945Z",
     "start_time": "2020-08-25T00:01:12.163233Z"
    }
   },
   "outputs": [
    {
     "name": "stdout",
     "output_type": "stream",
     "text": [
      "\n",
      "        Basic Regression Diagnosttics\n",
      "        ------------------------------\n",
      "        Slope:0.558\n",
      "        Y-Intercept:6.333\n",
      "        R-Squared: 0.972\n",
      "        ------------------------------\n",
      "   Model: Y = 0.558 * X + 6.333\n"
     ]
    },
    {
     "data": {
      "image/png": "[encoded data removed]",
      "text/plain": [
       "<Figure size 576x432 with 1 Axes>"
      ]
     },
     "metadata": {
      "needs_background": "light"
     },
     "output_type": "display_data"
    }
   ],
   "source": [
    "# Combine all the functions created so far to run a complete regression experiment. \n",
    "# Produce an output similar to the one shown below. \n",
    "\n",
    "import numpy as np\n",
    "import matplotlib.pyplot as plt\n",
    "from matplotlib import style\n",
    "style.use('ggplot')\n",
    "%matplotlib inline\n",
    "\n",
    "def calc_slope(xs,ys):\n",
    "    x_bar = xs.mean()\n",
    "    y_bar = ys.mean()\n",
    "    x_y_bar = (xs*ys).mean()\n",
    "    x2_bar = (xs*xs).mean()\n",
    "    \n",
    "    return (x_bar * y_bar - x_y_bar)/(x_bar**2 - x2_bar)\n",
    "\n",
    "def best_fit(xs,ys):\n",
    "    x_bar = xs.mean()\n",
    "    y_bar = ys.mean()\n",
    "    m_hat = calc_slope(xs,ys)\n",
    "    c_hat = y_bar - (m_hat * x_bar)\n",
    "    return m_hat, c_hat\n",
    "\n",
    "def reg_line (m, c, xs):\n",
    "    y = m*xs + c\n",
    "    return y\n",
    "\n",
    "def sq_err(y_real, y_predicted):\n",
    "    \"\"\"\n",
    "    input\n",
    "    y_real : true y values\n",
    "    y_predicted : regression line\n",
    "\n",
    "    \n",
    "    return\n",
    "    squared error between regression and true line (ss_tot)\n",
    "    \"\"\"\n",
    "    y_y_hat = np.sum((y_real - y_predicted)**2)\n",
    "    \n",
    "    return round(y_y_hat, 3)\n",
    "\n",
    "def r_squared(y_real, y_predicted):\n",
    "    \"\"\"\n",
    "    input\n",
    "    y_real: real values\n",
    "    y_predicted: regression values\n",
    "    \n",
    "    return\n",
    "    r_squared value\n",
    "    \"\"\"\n",
    "    sse = sq_err(y_real, y_predicted)\n",
    "    y_bar = np.mean(y_real)\n",
    "    sst = sq_err(y_real, np.full_like(y_real, fill_value = y_bar))\n",
    "    return(1 - (sse/sst))\n",
    "\n",
    "\n",
    "X = np.array([1, 2, 3, 4, 5, 6, 7, 8, 9, 10], dtype=np.float64)\n",
    "Y = np.array([7, 7, 8, 9, 9, 10, 10, 11, 11, 12], dtype=np.float64)\n",
    "\n",
    "\n",
    "def simple_linear(sx,sy):\n",
    "    beta_1, beta_0 = best_fit(sx,sy) # Caculated the slope and y-intersect\n",
    "    regression_line = reg_line (beta_1, beta_0, sx) # Caculated the y_hat (predicted y)\n",
    "    R_squared = r_squared(sy, regression_line) # calculated the R**2 (Coefficient of correlation)\n",
    "    \n",
    "    print(\"\"\"\n",
    "        Basic Regression Diagnosttics\n",
    "        ------------------------------\n",
    "        Slope:{}\n",
    "        Y-Intercept:{}\n",
    "        R-Squared: {}\n",
    "        ------------------------------\"\"\".\n",
    "         format(round(beta_1,3), round(beta_0,3), round(R_squared,3)))\n",
    "    print(\"   Model: Y = {} * X + {}\".format(round(beta_1,3), round(beta_0,3)))\n",
    "    \n",
    "    fig = plt.figure(figsize=(8,6))\n",
    "    ax = plt.gca()\n",
    "    ax.scatter(sx,sy, color = \"blue\", label = \"Actual Data points\")\n",
    "    ax.plot(sx,regression_line, color = 'red', label = \"Regression line\")\n",
    "    ax.legend()\n",
    "    plt.xlabel('X-labels')\n",
    "    plt.ylabel('Y-labels')\n",
    "    return ax, beta_1, beta_0, R_squared\n",
    "\n",
    "ax, m, c, r2 = simple_linear(X,Y)"
   ]
  },
  {
   "cell_type": "code",
   "execution_count": 70,
   "metadata": {
    "scrolled": true
   },
   "outputs": [
    {
     "name": "stdout",
     "output_type": "stream",
     "text": [
      "Basic Regression Diagnostics\n",
      "----------------------------\n",
      "Slope: 0.56\n",
      "Y-Intercept: 6.33\n",
      "R-Squared: 0.97\n",
      "----------------------------\n",
      "Model: Y = 0.56 * X + 6.33\n"
     ]
    },
    {
     "data": {
      "image/png": "[encoded data removed]",
      "text/plain": [
       "<matplotlib.figure.Figure at 0x1a180b14a8>"
      ]
     },
     "metadata": {},
     "output_type": "display_data"
    }
   ],
   "source": [
    "# Basic Regression Diagnostics\n",
    "# ----------------------------\n",
    "# Slope: 0.56\n",
    "# Y-Intercept: 6.33\n",
    "# R-Squared: 0.97\n",
    "# ----------------------------\n",
    "# Model: Y = 0.56 * X + 6.33"
   ]
  },
  {
   "cell_type": "markdown",
   "metadata": {},
   "source": [
    "## Make Predictions\n",
    "\n",
    "Predict and plot the value of y using regression line above for a new value of $x = 4.5$."
   ]
  },
  {
   "cell_type": "code",
   "execution_count": 17,
   "metadata": {
    "ExecuteTime": {
     "end_time": "2020-08-25T00:04:21.645132Z",
     "start_time": "2020-08-25T00:04:21.419675Z"
    }
   },
   "outputs": [
    {
     "data": {
      "text/plain": [
       "Text(0, 0.5, 'Y-labels')"
      ]
     },
     "execution_count": 17,
     "metadata": {},
     "output_type": "execute_result"
    },
    {
     "data": {
      "image/png": "[encoded data removed]",
      "text/plain": [
       "<Figure size 432x288 with 1 Axes>"
      ]
     },
     "metadata": {
      "needs_background": "light"
     },
     "output_type": "display_data"
    }
   ],
   "source": [
    "# Make prediction for x = 4.5 and visualize on the scatter plot\n",
    "x = 4.5\n",
    "regression_line = reg_line (m, c, X)\n",
    "y_hat = (m * x) + c \n",
    "plt.scatter(X,Y, color = \"blue\", label = \"Actual Data points\")\n",
    "plt.plot(X,regression_line, color = 'red', label = \"Regression line\")\n",
    "plt.legend()\n",
    "plt.plot(x, y_hat, 'ro')\n",
    "plt.xlabel('X-labels')\n",
    "plt.ylabel('Y-labels')\n"
   ]
  },
  {
   "cell_type": "markdown",
   "metadata": {},
   "source": [
    "## Level up - Optional \n",
    "Load the \"`heightweight.csv`\" dataset. Use the height as an independent and weight as a dependent variable and draw a regression line to data using your code above. Calculate your R-Squared value for the model and try to predict new values of y. \n",
    "\n",
    "## Summary\n",
    "\n",
    "In this lab, we ran a complete simple regression analysis experiment using functions created so far. Next up, you'll learn how you can use Python's built-in modules to perform similar analyses with a much higher level of sophistication. "
   ]
  }
 ],
 "metadata": {
  "kernelspec": {
   "display_name": "Python 3",
   "language": "python",
   "name": "python3"
  },
  "language_info": {
   "codemirror_mode": {
    "name": "ipython",
    "version": 3
   },
   "file_extension": ".py",
   "mimetype": "text/x-python",
   "name": "python",
   "nbconvert_exporter": "python",
   "pygments_lexer": "ipython3",
   "version": "3.6.9"
  },
  "toc": {
   "base_numbering": 1,
   "nav_menu": {},
   "number_sections": true,
   "sideBar": true,
   "skip_h1_title": false,
   "title_cell": "Table of Contents",
   "title_sidebar": "Contents",
   "toc_cell": false,
   "toc_position": {},
   "toc_section_display": true,
   "toc_window_display": false
  },
  "varInspector": {
   "cols": {
    "lenName": 16,
    "lenType": 16,
    "lenVar": 40
   },
   "kernels_config": {
    "python": {
     "delete_cmd_postfix": "",
     "delete_cmd_prefix": "del ",
     "library": "var_list.py",
     "varRefreshCmd": "print(var_dic_list())"
    },
    "r": {
     "delete_cmd_postfix": ") ",
     "delete_cmd_prefix": "rm(",
     "library": "var_list.r",
     "varRefreshCmd": "cat(var_dic_list()) "
    }
   },
   "types_to_exclude": [
    "module",
    "function",
    "builtin_function_or_method",
    "instance",
    "_Feature"
   ],
   "window_display": false
  }
 },
 "nbformat": 4,
 "nbformat_minor": 2
}
